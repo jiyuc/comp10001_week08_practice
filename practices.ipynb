{
 "cells": [
  {
   "cell_type": "markdown",
   "id": "informational-wheat",
   "metadata": {},
   "source": [
    "### Save two links below if needed\n",
    "\n",
    "- Access to past tutorial codes (static)\n",
    "https://github.com/jiyuc/comp10001_2021sm1_tutecode\n",
    "- Access past tutorial codes (interactive)\n",
    "https://mybinder.org/v2/gh/jiyuc/comp10001_2021sm1_tutecode/HEAD"
   ]
  },
  {
   "cell_type": "markdown",
   "id": "fancy-webcam",
   "metadata": {},
   "source": [
    "### (b) Write a function that takes a string of words and returns a string where each word contains hyphens between each character,\n",
    "e.g.`\"this string here\"` becomes `\"t-h-i-s s-t-r-i-n-g h-e-r-e\"`."
   ]
  },
  {
   "cell_type": "code",
   "execution_count": null,
   "id": "economic-damage",
   "metadata": {},
   "outputs": [],
   "source": [
    "def hyphenate_words(string):\n",
    "    list = []\n",
    "    for word in string.split():\n",
    "        word = list(word\n",
    "        hyphenated = word.join('-')\n",
    "        list = list.append(hyphenated)\n",
    "    return words.join(' ')"
   ]
  },
  {
   "cell_type": "code",
   "execution_count": null,
   "id": "common-command",
   "metadata": {},
   "outputs": [],
   "source": [
    "# debug in this cell\n",
    "# TODO\n",
    "\n",
    "\n",
    "\n"
   ]
  },
  {
   "cell_type": "markdown",
   "id": "absent-buying",
   "metadata": {},
   "source": [
    "### (c) Write a function to find the minimum of a mathematical function using a scanning search. The search should be conducted from `−1` to `1` inclusive, and try all function values inbetween with a stepsize of `0.1`. This function should return the minimum function value for any arbitrary function (that is finite between `−1` and `1`)."
   ]
  },
  {
   "cell_type": "code",
   "execution_count": null,
   "id": "right-demonstration",
   "metadata": {},
   "outputs": [],
   "source": [
    "start = -1\n",
    "end = 1\n",
    "stepsize = 0.1\n",
    "\n",
    "def f(x):\n",
    "    return -x - 2\n",
    "\n",
    "def g(x):\n",
    "    return x**2 - 1\n",
    "\n",
    "def find_min(function):\n",
    "    minimum = 0\n",
    "    while start < end:\n",
    "        if f(start) < minimum:\n",
    "            minimum = f(start)\n",
    "            start += stepsize\n",
    "    return minimum\n",
    "\n",
    "print(find_min(f), find_min(g))"
   ]
  },
  {
   "cell_type": "code",
   "execution_count": null,
   "id": "bibliographic-consent",
   "metadata": {},
   "outputs": [],
   "source": [
    "# debug in this cell\n",
    "# TODO\n",
    "\n",
    "\n",
    "\n",
    "\n",
    "\n"
   ]
  }
 ],
 "metadata": {
  "kernelspec": {
   "display_name": "Python 3",
   "language": "python",
   "name": "python3"
  },
  "language_info": {
   "codemirror_mode": {
    "name": "ipython",
    "version": 3
   },
   "file_extension": ".py",
   "mimetype": "text/x-python",
   "name": "python",
   "nbconvert_exporter": "python",
   "pygments_lexer": "ipython3",
   "version": "3.7.7"
  }
 },
 "nbformat": 4,
 "nbformat_minor": 5
}
