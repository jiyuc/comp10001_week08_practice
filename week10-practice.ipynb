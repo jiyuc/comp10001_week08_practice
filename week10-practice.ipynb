{
 "cells": [
  {
   "cell_type": "markdown",
   "id": "cathedral-distance",
   "metadata": {},
   "source": [
    "Access to previous interactive tutorial codes\n",
    "\n",
    "https://mybinder.org/v2/gh/jiyuc/comp10001_2021sm1_tutecode/HEAD"
   ]
  },
  {
   "cell_type": "markdown",
   "id": "narrative-logging",
   "metadata": {},
   "source": [
    "### 1. Rewrite the following with a default dictionary"
   ]
  },
  {
   "cell_type": "code",
   "execution_count": null,
   "id": "democratic-davis",
   "metadata": {},
   "outputs": [],
   "source": [
    "my_dict = {}\n",
    "for i in range(20):\n",
    "    if i % 3 in my_dict:\n",
    "        my_dict[i % 3].append(i)\n",
    "else:\n",
    "my_dict[i % 3] = [i]"
   ]
  },
  {
   "cell_type": "code",
   "execution_count": null,
   "id": "express-avatar",
   "metadata": {},
   "outputs": [],
   "source": [
    "# write your code here...\n",
    "\n"
   ]
  },
  {
   "cell_type": "markdown",
   "id": "reverse-midwest",
   "metadata": {},
   "source": [
    "### 2. Evaluate the following list comprehensions. For each one, also write some python code to generate the same list without using a comprehension."
   ]
  },
  {
   "cell_type": "code",
   "execution_count": null,
   "id": "wooden-twins",
   "metadata": {},
   "outputs": [],
   "source": [
    "[(name, 0) for name in (\"evelyn\", \"alex\", \"sam\")]\n",
    "\n",
    "# write code here...\n"
   ]
  },
  {
   "cell_type": "code",
   "execution_count": null,
   "id": "mathematical-bonus",
   "metadata": {},
   "outputs": [],
   "source": [
    "[i**2 for i in range(5) if i % 2 == 1]\n",
    "\n",
    "# write code here...\n"
   ]
  },
  {
   "cell_type": "code",
   "execution_count": null,
   "id": "exact-participation",
   "metadata": {},
   "outputs": [],
   "source": [
    "\"\".join([letter.upper() for letter in \"python\"])\n",
    "\n",
    "# write code here...\n"
   ]
  },
  {
   "cell_type": "markdown",
   "id": "equivalent-spectacular",
   "metadata": {},
   "source": [
    "### 3. What output does the following code print?\n",
    "`\n",
    "import itertools\n",
    "beatboxer = itertools.cycle(['boots', 'and', 'cats', 'and'])\n",
    "for count in range(39):\n",
    "    print(next(beatboxer))\n",
    "`"
   ]
  },
  {
   "cell_type": "markdown",
   "id": "sharing-florence",
   "metadata": {},
   "source": [
    "### 4. Write code to replace `(num)` in the program below which reads from in.txt and writes to out.txt."
   ]
  },
  {
   "cell_type": "code",
   "execution_count": 4,
   "id": "breathing-registrar",
   "metadata": {},
   "outputs": [],
   "source": [
    "outfile = (1)(\"./out.txt\", \"w\")\n",
    "with open(\"./in.txt\", (2) ) as infile: \n",
    "    line_no = 1\n",
    "    for line in (3):\n",
    "        outfile.(4)(f\"line: {line_no}, length: {len(line)}\\n\") \n",
    "        line_no += 1\n",
    "outfile.write(\"The End\")\n",
    "(5)"
   ]
  },
  {
   "cell_type": "markdown",
   "id": "funny-latvia",
   "metadata": {},
   "source": [
    "### 5. “travel.csv” is a csv file containing data on how people get to work in different cities in Australia. “pro- cess.py” is a python program which processes this data. What information does the “process.py” attempt to find and print?\n",
    "\n",
    "`\n",
    "City,Train,Tram,Bus,Ferry,Car,Total\n",
    "Melbourne,242969,55169,31937,783,1282997,1613855\n",
    "Sydney,368572,3210,138340,9007,1206350,1725482\n",
    "Adelaide,13715,4137,33673,211,390360,442102\n",
    "Brisbane,62069,229,58228,3761,663353,787650\n",
    "Perth,56417,223,37899,373,594571,689489\n",
    "`\n",
    "\n",
    "`\n",
    "import csv\n",
    "fp = open(\"travel.csv\")\n",
    "city = ''\n",
    "curr_max = 0.0\n",
    "for row in csv.DictReader(fp):\n",
    "    ferry = int(row[\"Ferry\"])\n",
    "    total = int(row[\"Total\"])\n",
    "    if ferry / total > curr_max:\n",
    "        city = row[\"City\"]\n",
    "        curr_max = ferry / total\n",
    "print(city)\n",
    "`"
   ]
  },
  {
   "cell_type": "code",
   "execution_count": null,
   "id": "formed-pittsburgh",
   "metadata": {},
   "outputs": [],
   "source": []
  }
 ],
 "metadata": {
  "kernelspec": {
   "display_name": "Python 3",
   "language": "python",
   "name": "python3"
  },
  "language_info": {
   "codemirror_mode": {
    "name": "ipython",
    "version": 3
   },
   "file_extension": ".py",
   "mimetype": "text/x-python",
   "name": "python",
   "nbconvert_exporter": "python",
   "pygments_lexer": "ipython3",
   "version": "3.7.7"
  }
 },
 "nbformat": 4,
 "nbformat_minor": 5
}
